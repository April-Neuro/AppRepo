{
 "cells": [
  {
   "cell_type": "code",
   "execution_count": 247,
   "id": "95a2f72b",
   "metadata": {},
   "outputs": [],
   "source": [
    "import warnings\n",
    "warnings.filterwarnings('ignore')\n",
    "\n",
    "import ipywidgets as widgets\n",
    "from IPython.display import display, clear_output\n",
    "\n",
    "#import pip\n",
    "#!pip install gspread\n",
    "import gspread\n",
    "import pandas as pd\n",
    "import df2gspread as d2g\n",
    "import random\n",
    "import ipywidgets as widgets\n",
    "from IPython.display import display, clear_output\n",
    "\n",
    "from oauth2client.service_account import ServiceAccountCredentials\n"
   ]
  },
  {
   "cell_type": "code",
   "execution_count": 248,
   "id": "9802053b",
   "metadata": {},
   "outputs": [],
   "source": [
    "#load data \n",
    "\n",
    "scope = [\n",
    "   'https://spreadsheets.google.com/feeds',\n",
    "         'https://www.googleapis.com/auth/drive']\n",
    "\n",
    "#Name of our Service Account Key\n",
    "google_key_file = 'chooseadventureapp-07caf7abc2ef.json'\n",
    "credentials = ServiceAccountCredentials.from_json_keyfile_name(google_key_file, scope)\n",
    "gc = gspread.authorize(credentials)\n",
    "\n",
    "spreadsheet_key = '18b4EVBQDiy4-cDF9Iq5lCtzcnz3AldyPyi8XmSgLvt0'\n",
    "workbook = gc.open_by_key(spreadsheet_key)\n",
    "sheet1=workbook.worksheet('Sheet1')\n",
    "#!jupyter nbextension enable – py widgetsnbextension – sys-prefix\n",
    "#!jupyter serverextension enable voila – sys-prefix"
   ]
  },
  {
   "cell_type": "code",
   "execution_count": 205,
   "id": "774b56e3",
   "metadata": {},
   "outputs": [],
   "source": [
    "#pull in data from google doc\n",
    "\n",
    "values = sheet1.get_all_values()\n",
    "activities_list = pd.DataFrame(values [1:])\n",
    "columns = values[0]\n",
    "activities_list.columns = columns"
   ]
  },
  {
   "cell_type": "code",
   "execution_count": 250,
   "id": "55937d86",
   "metadata": {},
   "outputs": [],
   "source": [
    "#image widget\n",
    "# Image Widget\n",
    "\n",
    "file = open(\"hbd.jpg\", \"rb\")\n",
    "image = file.read()\n",
    "\n",
    "image_headline = widgets.Image(\n",
    "                    value=image,\n",
    "                    format='jpg',\n",
    "                    width='800'\n",
    "                )\n",
    "\n",
    "#label_headline = widgets.Label(\n",
    "#                    value='Photo by CDC on Unsplash',\n",
    " #                   style={'description_width': 'initial'}\n",
    "  #              )\n",
    "\n",
    "vbox_headline = widgets.VBox([image_headline])#, label_headline])\n"
   ]
  },
  {
   "cell_type": "code",
   "execution_count": 206,
   "id": "fe646006",
   "metadata": {},
   "outputs": [],
   "source": [
    "#build widgets\n",
    "\n",
    "weather = widgets.ToggleButtons(options = ['amazing','good','bad','not sure'])\n",
    "\n",
    "time = widgets.ToggleButtons(options = ['AM','PM','AMPM'])\n",
    "\n",
    "date = widgets.DatePicker(description='Pick a Date')\n",
    "\n",
    "group = widgets.IntSlider(value=2,\n",
    "                          min=1,\n",
    "                          max=10,\n",
    "                          step=1,\n",
    "                          description=\"# of ppl\"\n",
    "                        )\n",
    "\n",
    "cost = widgets.SelectionSlider(\n",
    "    options=['0', '$', '$$', '$$$'],\n",
    "    value='0',\n",
    "    description='how bougie?',\n",
    "    disabled=False,\n",
    "    continuous_update=False,\n",
    "    orientation='horizontal',\n",
    "    readout=True\n",
    "    )\n",
    "\n",
    "goButton = widgets.Button(description = \"Choose Adventure!\",\n",
    "                            tooltip='Go!',\n",
    "                            button_style='primary'\n",
    "                            )\n",
    "\n",
    "out = widgets.Output(layout={'border': '1px solid black'})"
   ]
  },
  {
   "cell_type": "code",
   "execution_count": 208,
   "id": "8fd02eb5",
   "metadata": {},
   "outputs": [],
   "source": [
    "#write function to choose activity based on user input \n",
    "\n",
    "def Choose(userInput):\n",
    "    #need to end up with 1-3 results that match the user's criteria\n",
    "    \n",
    "    acts = activities_list\n",
    "    weather = userInput[0]\n",
    "    date = userInput[1]\n",
    "    group = userInput[2]\n",
    "    cost = userInput[3]\n",
    "    time = userInput[4]\n",
    "        \n",
    "    #filter out any activity at the wrong time\n",
    "    #am = get rid of pm, pm = get rid of am, always keep \"both\"    \n",
    "    if time == 'PM':\n",
    "            index_to_drop = acts[ (acts.AMPM == 'AM')].index \n",
    "            acts.drop(index_to_drop , inplace=True)\n",
    "            \n",
    "    elif time == 'AM':\n",
    "            index_to_drop = acts[ (acts.AMPM == 'PM')].index\n",
    "            acts.drop(index_to_drop , inplace=True)\n",
    "        \n",
    "    acts = acts[acts.AMPM == time] # really it just has to contain \"am\" or \"pm\"\n",
    "    \n",
    "    if weather == 'bad':\n",
    "            acts = acts[acts.venue != 'outdoor']\n",
    "    elif weather == 'amazing':\n",
    "            acts = acts[acts.venue == 'outdoor']\n",
    "    \n",
    "    if len(cost) == 1:\n",
    "        index_to_drop = acts[ (acts.cost == \"$$\" ) | (acts.cost == '$$$')].index\n",
    "        acts.drop(index_to_drop, inplace=True)\n",
    "    \n",
    "    #filter by neighborhood\n",
    "    \n",
    "    return acts"
   ]
  },
  {
   "cell_type": "code",
   "execution_count": 235,
   "id": "c4d7cf4e",
   "metadata": {},
   "outputs": [],
   "source": [
    "def on_button_clicked(event):\n",
    "    with out:\n",
    "        answers = [weather.value, date.value, group.value, cost.value, time.value]\n",
    "        clear_output()\n",
    "        print(\"Here is your result...\")\n",
    "        print(f'the date is {date.value}.')\n",
    "        print(f'the weather is {weather.value}.')\n",
    "        print(f\"you have {group.value} people.\")        \n",
    "        print(f'you have {cost.value} money.') \n",
    "        \n",
    "        #loading bar?\n",
    "        \n",
    "        newList = Choose(answers)\n",
    "        \n",
    "        if len(newList) == 1:\n",
    "            print(f'I found the perfect activity!')\n",
    "            print(f'    do this: {newList.ActivityName.iloc[0]} at {newList.Address.iloc[0]}')\n",
    "            print(f'    {newList.Website.iloc[0]}')\n",
    "            \n",
    "        elif len(newList) >1:\n",
    "            rand_index = random.randint(0,len(newList)-1)\n",
    "            print(f'I found {len(newList)} activities!')\n",
    "            print(f'    do this: {newList.ActivityName.iloc[rand_index]} at {newList.LocationName.iloc[rand_index]} in {newList.neighborhood.iloc[rand_index]}') \n",
    "            print(f'    {newList.Address.iloc[rand_index]}')\n",
    "            print(f'    {newList.Website.iloc[rand_index]}')\n",
    "        \n",
    "        else:\n",
    "            print(f\"I don't have the perfect activity for that... try different input!\")\n",
    "            print(f\"Here's a random activity instead: \" )\n",
    "            rand_index = random.randint(0,len(activities_list)-1)\n",
    "            print(f'    do this: {activities_list.ActivityName.iloc[rand_index]} at {activities_list.LocationName.iloc[rand_index]} in {activities_list.neighborhood.iloc[rand_index]}') \n",
    "            print(f'    {activities_list.Address.iloc[rand_index]}')\n",
    "            print(f'    {activities_list.Website.iloc[rand_index]}')\n",
    "\n",
    "    \n",
    "goButton.on_click(on_button_clicked)\n",
    "vbox_result = widgets.VBox([goButton, out])"
   ]
  },
  {
   "cell_type": "code",
   "execution_count": 252,
   "id": "436281f8",
   "metadata": {},
   "outputs": [],
   "source": [
    "# define text to display on the page\n",
    "space = widgets.HTML(value='<br>')\n",
    "text0 = widgets.HTML(value='<b><font size = 10> Hi beautiful! </b> So you want to do something fun? :)</font>')\n",
    "\n",
    "text1 = widgets.HTML(value='How is the weather?')\n",
    "text2 = widgets.HTML(value='Pick a date')\n",
    "text3 = widgets.HTML(value='How big is your group?')\n",
    "text4 = widgets.HTML(value='how much money you trying to spend?')\n",
    "text5 = widgets.HTML(value='Is is day or night? (Choose AMPM if both are ok )')\n",
    "text6 = widgets.HTML(value='Ready? Click button to choose your adventure!')\n",
    "\n",
    "\n",
    "vbox_text = widgets.VBox([space, space, text0, space, text1, weather, text2, date, text3, group, text4, cost, text5, time, text6, vbox_result])\n"
   ]
  },
  {
   "cell_type": "code",
   "execution_count": 249,
   "id": "ac35e5f8",
   "metadata": {},
   "outputs": [
    {
     "data": {
      "application/vnd.jupyter.widget-view+json": {
       "model_id": "4d9e0f2e56c14bb3a1a195979de290c2",
       "version_major": 2,
       "version_minor": 0
      },
      "text/plain": [
       "HBox(children=(VBox(children=(Image(value=b'\\xff\\xd8\\xff\\xe1\\x00\\xbcExif\\x00\\x00II*\\x00\\x08\\x00\\x00\\x00\\x06\\x0…"
      ]
     },
     "metadata": {},
     "output_type": "display_data"
    }
   ],
   "source": [
    "page = widgets.HBox([vbox_headline, vbox_text])\n",
    "display(page)"
   ]
  }
 ],
 "metadata": {
  "celltoolbar": "Raw Cell Format",
  "kernelspec": {
   "display_name": "Python 3 (ipykernel)",
   "language": "python",
   "name": "python3"
  },
  "language_info": {
   "codemirror_mode": {
    "name": "ipython",
    "version": 3
   },
   "file_extension": ".py",
   "mimetype": "text/x-python",
   "name": "python",
   "nbconvert_exporter": "python",
   "pygments_lexer": "ipython3",
   "version": "3.9.15"
  }
 },
 "nbformat": 4,
 "nbformat_minor": 5
}
